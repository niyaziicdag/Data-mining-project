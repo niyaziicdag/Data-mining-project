{
 "cells": [
  {
   "cell_type": "markdown",
   "metadata": {},
   "source": [
    "#                               <center>   VERİ MADENCİLİĞİ DERSİ</center>\n",
    "\n",
    "## <center> HAZİRAN 2021 </center>\n",
    "\n",
    "##                                           <center>           PROJE ÖDEVİ</center>\n",
    "\n",
    "##                                              <center>        NİYAZİ İÇDAĞ</center>\n",
    "\n",
    "###                                                          <center>            14011706</center>\n",
    "\n",
    "***Veri Seti:*** Speaker Accent Recognition<br>\n",
    "***Veri Seti Özellikleri: Toplam kayıt sayısı:*** 329 adet ***Toplam Özellik sayısı:*** 12 + 1 (Language)<br>\n",
    "Aksan algılama ve tanıma için altı farklı ülkeden konuşmacılar tarafından okunan tek İngilizce kelimeleri içeren veri setidir.\n",
    "Veri setinde ses dosyalarına MFCC uygulanarak gerekli özellik çıkarımları yapıldığı tespit edilmiştir."
   ]
  },
  {
   "cell_type": "code",
   "execution_count": 1,
   "metadata": {},
   "outputs": [],
   "source": [
    "import numpy as np\n",
    "import pandas as pd\n",
    "from matplotlib import pyplot as plt"
   ]
  },
  {
   "cell_type": "markdown",
   "metadata": {},
   "source": [
    "# A.VERİ ANALİZİ \n",
    "## Veri Seti Bilgileri\n",
    "\n",
    "Aşağıda veri setimiz .csv dosyasından okunmuştur.Listeden de görüldüğü üzere veri setimizde aksanları tutan language özelliği ve her bir aksan için çıkarılmış MFCC değerlerini tutan 12 adet özellik bulunmaktadır.\n"
   ]
  },
  {
   "cell_type": "code",
   "execution_count": 2,
   "metadata": {},
   "outputs": [
    {
     "data": {
      "text/html": [
       "<div>\n",
       "<style scoped>\n",
       "    .dataframe tbody tr th:only-of-type {\n",
       "        vertical-align: middle;\n",
       "    }\n",
       "\n",
       "    .dataframe tbody tr th {\n",
       "        vertical-align: top;\n",
       "    }\n",
       "\n",
       "    .dataframe thead th {\n",
       "        text-align: right;\n",
       "    }\n",
       "</style>\n",
       "<table border=\"1\" class=\"dataframe\">\n",
       "  <thead>\n",
       "    <tr style=\"text-align: right;\">\n",
       "      <th></th>\n",
       "      <th>language</th>\n",
       "      <th>X1</th>\n",
       "      <th>X2</th>\n",
       "      <th>X3</th>\n",
       "      <th>X4</th>\n",
       "      <th>X5</th>\n",
       "      <th>X6</th>\n",
       "      <th>X7</th>\n",
       "      <th>X8</th>\n",
       "      <th>X9</th>\n",
       "      <th>X10</th>\n",
       "      <th>X11</th>\n",
       "      <th>X12</th>\n",
       "    </tr>\n",
       "  </thead>\n",
       "  <tbody>\n",
       "    <tr>\n",
       "      <th>0</th>\n",
       "      <td>ES</td>\n",
       "      <td>7.071476</td>\n",
       "      <td>-6.512900</td>\n",
       "      <td>7.650800</td>\n",
       "      <td>11.150783</td>\n",
       "      <td>-7.657312</td>\n",
       "      <td>12.484021</td>\n",
       "      <td>-11.709772</td>\n",
       "      <td>3.426596</td>\n",
       "      <td>1.462715</td>\n",
       "      <td>-2.812753</td>\n",
       "      <td>0.866538</td>\n",
       "      <td>-5.244274</td>\n",
       "    </tr>\n",
       "    <tr>\n",
       "      <th>1</th>\n",
       "      <td>ES</td>\n",
       "      <td>10.982967</td>\n",
       "      <td>-5.157445</td>\n",
       "      <td>3.952060</td>\n",
       "      <td>11.529381</td>\n",
       "      <td>-7.638047</td>\n",
       "      <td>12.136098</td>\n",
       "      <td>-12.036247</td>\n",
       "      <td>3.491943</td>\n",
       "      <td>0.595441</td>\n",
       "      <td>-4.508811</td>\n",
       "      <td>2.332147</td>\n",
       "      <td>-6.221857</td>\n",
       "    </tr>\n",
       "    <tr>\n",
       "      <th>2</th>\n",
       "      <td>ES</td>\n",
       "      <td>7.827108</td>\n",
       "      <td>-5.477472</td>\n",
       "      <td>7.816257</td>\n",
       "      <td>9.187592</td>\n",
       "      <td>-7.172511</td>\n",
       "      <td>11.715299</td>\n",
       "      <td>-13.847214</td>\n",
       "      <td>4.574075</td>\n",
       "      <td>-1.687559</td>\n",
       "      <td>-7.204041</td>\n",
       "      <td>-0.011847</td>\n",
       "      <td>-6.463144</td>\n",
       "    </tr>\n",
       "    <tr>\n",
       "      <th>3</th>\n",
       "      <td>ES</td>\n",
       "      <td>6.744083</td>\n",
       "      <td>-5.688920</td>\n",
       "      <td>6.546789</td>\n",
       "      <td>9.000183</td>\n",
       "      <td>-6.924963</td>\n",
       "      <td>11.710766</td>\n",
       "      <td>-12.374388</td>\n",
       "      <td>6.169879</td>\n",
       "      <td>-0.544747</td>\n",
       "      <td>-6.019237</td>\n",
       "      <td>1.358559</td>\n",
       "      <td>-6.356441</td>\n",
       "    </tr>\n",
       "    <tr>\n",
       "      <th>4</th>\n",
       "      <td>ES</td>\n",
       "      <td>5.836843</td>\n",
       "      <td>-5.326557</td>\n",
       "      <td>7.472265</td>\n",
       "      <td>8.847440</td>\n",
       "      <td>-6.773244</td>\n",
       "      <td>12.677218</td>\n",
       "      <td>-12.315061</td>\n",
       "      <td>4.416344</td>\n",
       "      <td>0.193500</td>\n",
       "      <td>-3.644812</td>\n",
       "      <td>2.151239</td>\n",
       "      <td>-6.816310</td>\n",
       "    </tr>\n",
       "  </tbody>\n",
       "</table>\n",
       "</div>"
      ],
      "text/plain": [
       "  language         X1        X2        X3         X4        X5         X6  \\\n",
       "0       ES   7.071476 -6.512900  7.650800  11.150783 -7.657312  12.484021   \n",
       "1       ES  10.982967 -5.157445  3.952060  11.529381 -7.638047  12.136098   \n",
       "2       ES   7.827108 -5.477472  7.816257   9.187592 -7.172511  11.715299   \n",
       "3       ES   6.744083 -5.688920  6.546789   9.000183 -6.924963  11.710766   \n",
       "4       ES   5.836843 -5.326557  7.472265   8.847440 -6.773244  12.677218   \n",
       "\n",
       "          X7        X8        X9       X10       X11       X12  \n",
       "0 -11.709772  3.426596  1.462715 -2.812753  0.866538 -5.244274  \n",
       "1 -12.036247  3.491943  0.595441 -4.508811  2.332147 -6.221857  \n",
       "2 -13.847214  4.574075 -1.687559 -7.204041 -0.011847 -6.463144  \n",
       "3 -12.374388  6.169879 -0.544747 -6.019237  1.358559 -6.356441  \n",
       "4 -12.315061  4.416344  0.193500 -3.644812  2.151239 -6.816310  "
      ]
     },
     "execution_count": 2,
     "metadata": {},
     "output_type": "execute_result"
    }
   ],
   "source": [
    "#verisetini okuyoruz\n",
    "df=pd.read_csv(\"accent-mfcc-data-1.csv\")\n",
    "df.head()"
   ]
  },
  {
   "cell_type": "markdown",
   "metadata": {},
   "source": [
    "## Sınıf Bilgileri\n",
    "\n",
    "Aşağıda görüleceği üzere veri setimizde toplam 6 sınıf bulunmaktadır.Bu sınıflar her bir dili temsil etmektedir ve kısaltmaları kullanılmıştır.Her bir sınıfa düşen örnek sayıları aşağıda listelenmiştir."
   ]
  },
  {
   "cell_type": "code",
   "execution_count": 3,
   "metadata": {},
   "outputs": [
    {
     "data": {
      "text/plain": [
       "US    165\n",
       "UK     45\n",
       "FR     30\n",
       "GE     30\n",
       "IT     30\n",
       "ES     29\n",
       "Name: language, dtype: int64"
      ]
     },
     "execution_count": 3,
     "metadata": {},
     "output_type": "execute_result"
    }
   ],
   "source": [
    "df['language'].value_counts()"
   ]
  },
  {
   "cell_type": "markdown",
   "metadata": {},
   "source": [
    "## Eksik Veri Kontrolü\n",
    "\n",
    "Veri setimiz aşağıda kontrol edilmiş olup eksik veri bulunmamaktadır."
   ]
  },
  {
   "cell_type": "code",
   "execution_count": 4,
   "metadata": {},
   "outputs": [
    {
     "name": "stdout",
     "output_type": "stream",
     "text": [
      "<class 'pandas.core.frame.DataFrame'>\n",
      "RangeIndex: 329 entries, 0 to 328\n",
      "Data columns (total 13 columns):\n",
      " #   Column    Non-Null Count  Dtype  \n",
      "---  ------    --------------  -----  \n",
      " 0   language  329 non-null    object \n",
      " 1   X1        329 non-null    float64\n",
      " 2   X2        329 non-null    float64\n",
      " 3   X3        329 non-null    float64\n",
      " 4   X4        329 non-null    float64\n",
      " 5   X5        329 non-null    float64\n",
      " 6   X6        329 non-null    float64\n",
      " 7   X7        329 non-null    float64\n",
      " 8   X8        329 non-null    float64\n",
      " 9   X9        329 non-null    float64\n",
      " 10  X10       329 non-null    float64\n",
      " 11  X11       329 non-null    float64\n",
      " 12  X12       329 non-null    float64\n",
      "dtypes: float64(12), object(1)\n",
      "memory usage: 33.5+ KB\n"
     ]
    }
   ],
   "source": [
    "df.info()"
   ]
  },
  {
   "cell_type": "markdown",
   "metadata": {},
   "source": [
    "## Aykırı Değer Analizi\n"
   ]
  },
  {
   "cell_type": "code",
   "execution_count": 5,
   "metadata": {},
   "outputs": [],
   "source": [
    "import seaborn as sns"
   ]
  },
  {
   "cell_type": "code",
   "execution_count": 6,
   "metadata": {},
   "outputs": [
    {
     "data": {
      "text/html": [
       "<div>\n",
       "<style scoped>\n",
       "    .dataframe tbody tr th:only-of-type {\n",
       "        vertical-align: middle;\n",
       "    }\n",
       "\n",
       "    .dataframe tbody tr th {\n",
       "        vertical-align: top;\n",
       "    }\n",
       "\n",
       "    .dataframe thead th {\n",
       "        text-align: right;\n",
       "    }\n",
       "</style>\n",
       "<table border=\"1\" class=\"dataframe\">\n",
       "  <thead>\n",
       "    <tr style=\"text-align: right;\">\n",
       "      <th></th>\n",
       "      <th>X1</th>\n",
       "      <th>X2</th>\n",
       "      <th>X3</th>\n",
       "      <th>X4</th>\n",
       "      <th>X5</th>\n",
       "      <th>X6</th>\n",
       "      <th>X7</th>\n",
       "      <th>X8</th>\n",
       "      <th>X9</th>\n",
       "      <th>X10</th>\n",
       "      <th>X11</th>\n",
       "      <th>X12</th>\n",
       "    </tr>\n",
       "  </thead>\n",
       "  <tbody>\n",
       "    <tr>\n",
       "      <th>0</th>\n",
       "      <td>7.071476</td>\n",
       "      <td>-6.512900</td>\n",
       "      <td>7.650800</td>\n",
       "      <td>11.150783</td>\n",
       "      <td>-7.657312</td>\n",
       "      <td>12.484021</td>\n",
       "      <td>-11.709772</td>\n",
       "      <td>3.426596</td>\n",
       "      <td>1.462715</td>\n",
       "      <td>-2.812753</td>\n",
       "      <td>0.866538</td>\n",
       "      <td>-5.244274</td>\n",
       "    </tr>\n",
       "    <tr>\n",
       "      <th>1</th>\n",
       "      <td>10.982967</td>\n",
       "      <td>-5.157445</td>\n",
       "      <td>3.952060</td>\n",
       "      <td>11.529381</td>\n",
       "      <td>-7.638047</td>\n",
       "      <td>12.136098</td>\n",
       "      <td>-12.036247</td>\n",
       "      <td>3.491943</td>\n",
       "      <td>0.595441</td>\n",
       "      <td>-4.508811</td>\n",
       "      <td>2.332147</td>\n",
       "      <td>-6.221857</td>\n",
       "    </tr>\n",
       "    <tr>\n",
       "      <th>2</th>\n",
       "      <td>7.827108</td>\n",
       "      <td>-5.477472</td>\n",
       "      <td>7.816257</td>\n",
       "      <td>9.187592</td>\n",
       "      <td>-7.172511</td>\n",
       "      <td>11.715299</td>\n",
       "      <td>-13.847214</td>\n",
       "      <td>4.574075</td>\n",
       "      <td>-1.687559</td>\n",
       "      <td>-7.204041</td>\n",
       "      <td>-0.011847</td>\n",
       "      <td>-6.463144</td>\n",
       "    </tr>\n",
       "    <tr>\n",
       "      <th>3</th>\n",
       "      <td>6.744083</td>\n",
       "      <td>-5.688920</td>\n",
       "      <td>6.546789</td>\n",
       "      <td>9.000183</td>\n",
       "      <td>-6.924963</td>\n",
       "      <td>11.710766</td>\n",
       "      <td>-12.374388</td>\n",
       "      <td>6.169879</td>\n",
       "      <td>-0.544747</td>\n",
       "      <td>-6.019237</td>\n",
       "      <td>1.358559</td>\n",
       "      <td>-6.356441</td>\n",
       "    </tr>\n",
       "    <tr>\n",
       "      <th>4</th>\n",
       "      <td>5.836843</td>\n",
       "      <td>-5.326557</td>\n",
       "      <td>7.472265</td>\n",
       "      <td>8.847440</td>\n",
       "      <td>-6.773244</td>\n",
       "      <td>12.677218</td>\n",
       "      <td>-12.315061</td>\n",
       "      <td>4.416344</td>\n",
       "      <td>0.193500</td>\n",
       "      <td>-3.644812</td>\n",
       "      <td>2.151239</td>\n",
       "      <td>-6.816310</td>\n",
       "    </tr>\n",
       "  </tbody>\n",
       "</table>\n",
       "</div>"
      ],
      "text/plain": [
       "          X1        X2        X3         X4        X5         X6         X7  \\\n",
       "0   7.071476 -6.512900  7.650800  11.150783 -7.657312  12.484021 -11.709772   \n",
       "1  10.982967 -5.157445  3.952060  11.529381 -7.638047  12.136098 -12.036247   \n",
       "2   7.827108 -5.477472  7.816257   9.187592 -7.172511  11.715299 -13.847214   \n",
       "3   6.744083 -5.688920  6.546789   9.000183 -6.924963  11.710766 -12.374388   \n",
       "4   5.836843 -5.326557  7.472265   8.847440 -6.773244  12.677218 -12.315061   \n",
       "\n",
       "         X8        X9       X10       X11       X12  \n",
       "0  3.426596  1.462715 -2.812753  0.866538 -5.244274  \n",
       "1  3.491943  0.595441 -4.508811  2.332147 -6.221857  \n",
       "2  4.574075 -1.687559 -7.204041 -0.011847 -6.463144  \n",
       "3  6.169879 -0.544747 -6.019237  1.358559 -6.356441  \n",
       "4  4.416344  0.193500 -3.644812  2.151239 -6.816310  "
      ]
     },
     "execution_count": 6,
     "metadata": {},
     "output_type": "execute_result"
    }
   ],
   "source": [
    "df2=df.copy()\n",
    "df2=df2.select_dtypes(include = ['float64', 'int64'])\n",
    "df2.head()"
   ]
  },
  {
   "cell_type": "markdown",
   "metadata": {},
   "source": [
    "***Aşağıda tek tek tüm özellikler için boxplot çizdirilerek incelenmiş olup X1 özelliği dışında ki tüm özelliklerde aykırı değerlere rastlanmıştır.***"
   ]
  },
  {
   "cell_type": "code",
   "execution_count": 7,
   "metadata": {},
   "outputs": [
    {
     "data": {
      "text/plain": [
       "<matplotlib.axes._subplots.AxesSubplot at 0x29aa4250488>"
      ]
     },
     "execution_count": 7,
     "metadata": {},
     "output_type": "execute_result"
    },
    {
     "data": {
      "image/png": "[encoded data removed]",
      "text/plain": [
       "<Figure size 432x288 with 1 Axes>"
      ]
     },
     "metadata": {
      "needs_background": "light"
     },
     "output_type": "display_data"
    }
   ],
   "source": [
    "df2_table=df2[\"X12\"].copy()\n",
    "sns.boxplot(x=df2_table)"
   ]
  },
  {
   "cell_type": "markdown",
   "metadata": {},
   "source": [
    "## Aykırı Değer Analizi\n",
    "Aykırı değer analizi aşağıda yapılmış olup her bir özellik için bulunan aykırı değerler şunlardır.<br>\n",
    "X1:0<br>\n",
    "X2:2<br>\n",
    "X3:13<br>\n",
    "X4:5<br>\n",
    "X5:44<br>\n",
    "X6:36<br>\n",
    "X7:5<br>\n",
    "X8:10<br>\n",
    "X9:46<br>\n",
    "X10:50<br>\n",
    "X11:18<br>\n",
    "X12:9<br>\n",
    "<br>\n",
    "Buna göre en fazla aykırı değer bulunan 3 özellik X10, X9 ve X5'dir."
   ]
  },
  {
   "cell_type": "code",
   "execution_count": 8,
   "metadata": {},
   "outputs": [
    {
     "name": "stdout",
     "output_type": "stream",
     "text": [
      "\n",
      "Alt aykırı değeri :  -9.526464037507527\n",
      "Üst aykırı değeri :  21.385715362558308 \n",
      "\n",
      "X1 aykiri deger sayisi :  0 \n",
      "\n",
      "Ilk Deger : 7.071475632798459\n",
      "Yeni deger : 7.071475632798459\n",
      "Ilk Deger : -6.51289966399678\n",
      "Yeni deger : -6.51289966399678\n",
      "Ilk Deger : 7.65079980498752\n",
      "Yeni deger : 7.65079980498752\n",
      "Ilk Deger : 11.150783200729101\n",
      "Yeni deger : 11.150783200729101\n",
      "Ilk Deger : -7.657312340580679\n",
      "Yeni deger : -7.657312340580679\n",
      "Ilk Deger : 12.4840205599929\n",
      "Yeni deger : 12.4840205599929\n",
      "Ilk Deger : -11.7097718857424\n",
      "Yeni deger : -9.526464037507527\n",
      "Ilk Deger : 3.42659638843557\n",
      "Yeni deger : 3.42659638843557\n",
      "Ilk Deger : 1.4627152025217198\n",
      "Yeni deger : 1.4627152025217198\n",
      "Ilk Deger : -2.81275273412956\n",
      "Yeni deger : -2.81275273412956\n",
      "Ilk Deger : 0.866537751632946\n",
      "Yeni deger : 0.866537751632946\n",
      "Ilk Deger : -5.24427382038509\n",
      "Yeni deger : -5.24427382038509\n",
      "\n",
      "Alt aykırı değeri :  -13.949034827944805\n",
      "Üst aykırı değeri :  5.8730208847342755 \n",
      "\n",
      "X2 aykiri deger sayisi :  2 \n",
      "\n",
      "Ilk Deger : 7.071475632798459\n",
      "Yeni deger : 5.8730208847342755\n",
      "Ilk Deger : -6.51289966399678\n",
      "Yeni deger : -6.51289966399678\n",
      "Ilk Deger : 7.65079980498752\n",
      "Yeni deger : 5.8730208847342755\n",
      "Ilk Deger : 11.150783200729101\n",
      "Yeni deger : 5.8730208847342755\n",
      "Ilk Deger : -7.657312340580679\n",
      "Yeni deger : -7.657312340580679\n",
      "Ilk Deger : 12.4840205599929\n",
      "Yeni deger : 5.8730208847342755\n",
      "Ilk Deger : -11.7097718857424\n",
      "Yeni deger : -11.7097718857424\n",
      "Ilk Deger : 3.42659638843557\n",
      "Yeni deger : 3.42659638843557\n",
      "Ilk Deger : 1.4627152025217198\n",
      "Yeni deger : 1.4627152025217198\n",
      "Ilk Deger : -2.81275273412956\n",
      "Yeni deger : -2.81275273412956\n",
      "Ilk Deger : 0.866537751632946\n",
      "Yeni deger : 0.866537751632946\n",
      "Ilk Deger : -5.24427382038509\n",
      "Yeni deger : -5.24427382038509\n",
      "\n",
      "Alt aykırı değeri :  -5.924434349897394\n",
      "Üst aykırı değeri :  10.23950295599874 \n",
      "\n",
      "X3 aykiri deger sayisi :  13 \n",
      "\n",
      "Ilk Deger : 7.071475632798459\n",
      "Yeni deger : 7.071475632798459\n",
      "Ilk Deger : -6.51289966399678\n",
      "Yeni deger : -5.924434349897394\n",
      "Ilk Deger : 7.65079980498752\n",
      "Yeni deger : 7.65079980498752\n",
      "Ilk Deger : 11.150783200729101\n",
      "Yeni deger : 10.23950295599874\n",
      "Ilk Deger : -7.657312340580679\n",
      "Yeni deger : -5.924434349897394\n",
      "Ilk Deger : 12.4840205599929\n",
      "Yeni deger : 10.23950295599874\n",
      "Ilk Deger : -11.7097718857424\n",
      "Yeni deger : -5.924434349897394\n",
      "Ilk Deger : 3.42659638843557\n",
      "Yeni deger : 3.42659638843557\n",
      "Ilk Deger : 1.4627152025217198\n",
      "Yeni deger : 1.4627152025217198\n",
      "Ilk Deger : -2.81275273412956\n",
      "Yeni deger : -2.81275273412956\n",
      "Ilk Deger : 0.866537751632946\n",
      "Yeni deger : 0.866537751632946\n",
      "Ilk Deger : -5.24427382038509\n",
      "Yeni deger : -5.24427382038509\n",
      "\n",
      "Alt aykırı değeri :  -3.4415626441472273\n",
      "Üst aykırı değeri :  18.271601489363057 \n",
      "\n",
      "X4 aykiri deger sayisi :  5 \n",
      "\n",
      "Ilk Deger : 7.071475632798459\n",
      "Yeni deger : 7.071475632798459\n",
      "Ilk Deger : -6.51289966399678\n",
      "Yeni deger : -3.4415626441472273\n",
      "Ilk Deger : 7.65079980498752\n",
      "Yeni deger : 7.65079980498752\n",
      "Ilk Deger : 11.150783200729101\n",
      "Yeni deger : 11.150783200729101\n",
      "Ilk Deger : -7.657312340580679\n",
      "Yeni deger : -3.4415626441472273\n",
      "Ilk Deger : 12.4840205599929\n",
      "Yeni deger : 12.4840205599929\n",
      "Ilk Deger : -11.7097718857424\n",
      "Yeni deger : -3.4415626441472273\n",
      "Ilk Deger : 3.42659638843557\n",
      "Yeni deger : 3.42659638843557\n",
      "Ilk Deger : 1.4627152025217198\n",
      "Yeni deger : 1.4627152025217198\n",
      "Ilk Deger : -2.81275273412956\n",
      "Yeni deger : -2.81275273412956\n",
      "Ilk Deger : 0.866537751632946\n",
      "Yeni deger : 0.866537751632946\n",
      "Ilk Deger : -5.24427382038509\n",
      "Yeni deger : -3.4415626441472273\n",
      "\n",
      "Alt aykırı değeri :  -14.349248081167437\n",
      "Üst aykırı değeri :  1.4682559154203663 \n",
      "\n",
      "X5 aykiri deger sayisi :  44 \n",
      "\n",
      "Ilk Deger : 7.071475632798459\n",
      "Yeni deger : 1.4682559154203663\n",
      "Ilk Deger : -6.51289966399678\n",
      "Yeni deger : -6.51289966399678\n",
      "Ilk Deger : 7.65079980498752\n",
      "Yeni deger : 1.4682559154203663\n",
      "Ilk Deger : 11.150783200729101\n",
      "Yeni deger : 1.4682559154203663\n",
      "Ilk Deger : -7.657312340580679\n",
      "Yeni deger : -7.657312340580679\n",
      "Ilk Deger : 12.4840205599929\n",
      "Yeni deger : 1.4682559154203663\n",
      "Ilk Deger : -11.7097718857424\n",
      "Yeni deger : -11.7097718857424\n",
      "Ilk Deger : 3.42659638843557\n",
      "Yeni deger : 1.4682559154203663\n",
      "Ilk Deger : 1.4627152025217198\n",
      "Yeni deger : 1.4627152025217198\n",
      "Ilk Deger : -2.81275273412956\n",
      "Yeni deger : -2.81275273412956\n",
      "Ilk Deger : 0.866537751632946\n",
      "Yeni deger : 0.866537751632946\n",
      "Ilk Deger : -5.24427382038509\n",
      "Yeni deger : -5.24427382038509\n",
      "\n",
      "Alt aykırı değeri :  3.932366683978846\n",
      "Üst aykırı değeri :  16.495556731947413 \n",
      "\n",
      "X6 aykiri deger sayisi :  36 \n",
      "\n",
      "Ilk Deger : 7.071475632798459\n",
      "Yeni deger : 7.071475632798459\n",
      "Ilk Deger : -6.51289966399678\n",
      "Yeni deger : 3.932366683978846\n",
      "Ilk Deger : 7.65079980498752\n",
      "Yeni deger : 7.65079980498752\n",
      "Ilk Deger : 11.150783200729101\n",
      "Yeni deger : 11.150783200729101\n",
      "Ilk Deger : -7.657312340580679\n",
      "Yeni deger : 3.932366683978846\n",
      "Ilk Deger : 12.4840205599929\n",
      "Yeni deger : 12.4840205599929\n",
      "Ilk Deger : -11.7097718857424\n",
      "Yeni deger : 3.932366683978846\n",
      "Ilk Deger : 3.42659638843557\n",
      "Yeni deger : 3.932366683978846\n",
      "Ilk Deger : 1.4627152025217198\n",
      "Yeni deger : 3.932366683978846\n",
      "Ilk Deger : -2.81275273412956\n",
      "Yeni deger : 3.932366683978846\n",
      "Ilk Deger : 0.866537751632946\n",
      "Yeni deger : 3.932366683978846\n",
      "Ilk Deger : -5.24427382038509\n",
      "Yeni deger : 3.932366683978846\n",
      "\n",
      "Alt aykırı değeri :  -15.818093825201824\n",
      "Üst aykırı değeri :  -3.292135782425224 \n",
      "\n",
      "X7 aykiri deger sayisi :  5 \n",
      "\n",
      "Ilk Deger : 7.071475632798459\n",
      "Yeni deger : -3.292135782425224\n",
      "Ilk Deger : -6.51289966399678\n",
      "Yeni deger : -6.51289966399678\n",
      "Ilk Deger : 7.65079980498752\n",
      "Yeni deger : -3.292135782425224\n",
      "Ilk Deger : 11.150783200729101\n",
      "Yeni deger : -3.292135782425224\n",
      "Ilk Deger : -7.657312340580679\n",
      "Yeni deger : -7.657312340580679\n",
      "Ilk Deger : 12.4840205599929\n",
      "Yeni deger : -3.292135782425224\n",
      "Ilk Deger : -11.7097718857424\n",
      "Yeni deger : -11.7097718857424\n",
      "Ilk Deger : 3.42659638843557\n",
      "Yeni deger : -3.292135782425224\n",
      "Ilk Deger : 1.4627152025217198\n",
      "Yeni deger : -3.292135782425224\n",
      "Ilk Deger : -2.81275273412956\n",
      "Yeni deger : -3.292135782425224\n",
      "Ilk Deger : 0.866537751632946\n",
      "Yeni deger : -3.292135782425224\n",
      "Ilk Deger : -5.24427382038509\n",
      "Yeni deger : -5.24427382038509\n",
      "\n",
      "Alt aykırı değeri :  -1.1779776649413152\n",
      "Üst aykırı değeri :  11.249075947858085 \n",
      "\n",
      "X8 aykiri deger sayisi :  10 \n",
      "\n",
      "Ilk Deger : 7.071475632798459\n",
      "Yeni deger : 7.071475632798459\n",
      "Ilk Deger : -6.51289966399678\n",
      "Yeni deger : -1.1779776649413152\n",
      "Ilk Deger : 7.65079980498752\n",
      "Yeni deger : 7.65079980498752\n",
      "Ilk Deger : 11.150783200729101\n",
      "Yeni deger : 11.150783200729101\n",
      "Ilk Deger : -7.657312340580679\n",
      "Yeni deger : -1.1779776649413152\n",
      "Ilk Deger : 12.4840205599929\n",
      "Yeni deger : 11.249075947858085\n",
      "Ilk Deger : -11.7097718857424\n",
      "Yeni deger : -1.1779776649413152\n",
      "Ilk Deger : 3.42659638843557\n",
      "Yeni deger : 3.42659638843557\n",
      "Ilk Deger : 1.4627152025217198\n",
      "Yeni deger : 1.4627152025217198\n",
      "Ilk Deger : -2.81275273412956\n",
      "Yeni deger : -1.1779776649413152\n",
      "Ilk Deger : 0.866537751632946\n",
      "Yeni deger : 0.866537751632946\n",
      "Ilk Deger : -5.24427382038509\n",
      "Yeni deger : -1.1779776649413152\n",
      "\n",
      "Alt aykırı değeri :  -5.542694500238893\n",
      "Üst aykırı değeri :  4.573605014345728 \n",
      "\n",
      "X9 aykiri deger sayisi :  46 \n",
      "\n",
      "Ilk Deger : 7.071475632798459\n",
      "Yeni deger : 4.573605014345728\n",
      "Ilk Deger : -6.51289966399678\n",
      "Yeni deger : -5.542694500238893\n",
      "Ilk Deger : 7.65079980498752\n",
      "Yeni deger : 4.573605014345728\n",
      "Ilk Deger : 11.150783200729101\n",
      "Yeni deger : 4.573605014345728\n",
      "Ilk Deger : -7.657312340580679\n",
      "Yeni deger : -5.542694500238893\n",
      "Ilk Deger : 12.4840205599929\n",
      "Yeni deger : 4.573605014345728\n",
      "Ilk Deger : -11.7097718857424\n",
      "Yeni deger : -5.542694500238893\n",
      "Ilk Deger : 3.42659638843557\n",
      "Yeni deger : 3.42659638843557\n",
      "Ilk Deger : 1.4627152025217198\n",
      "Yeni deger : 1.4627152025217198\n",
      "Ilk Deger : -2.81275273412956\n",
      "Yeni deger : -2.81275273412956\n",
      "Ilk Deger : 0.866537751632946\n",
      "Yeni deger : 0.866537751632946\n",
      "Ilk Deger : -5.24427382038509\n",
      "Yeni deger : -5.24427382038509\n",
      "\n",
      "Alt aykırı değeri :  -10.44974950711292\n",
      "Üst aykırı değeri :  3.86018986228004 \n",
      "\n",
      "X10 aykiri deger sayisi :  50 \n",
      "\n",
      "Ilk Deger : 7.071475632798459\n",
      "Yeni deger : 3.86018986228004\n",
      "Ilk Deger : -6.51289966399678\n",
      "Yeni deger : -6.51289966399678\n",
      "Ilk Deger : 7.65079980498752\n",
      "Yeni deger : 3.86018986228004\n",
      "Ilk Deger : 11.150783200729101\n",
      "Yeni deger : 3.86018986228004\n",
      "Ilk Deger : -7.657312340580679\n",
      "Yeni deger : -7.657312340580679\n",
      "Ilk Deger : 12.4840205599929\n",
      "Yeni deger : 3.86018986228004\n",
      "Ilk Deger : -11.7097718857424\n",
      "Yeni deger : -10.44974950711292\n",
      "Ilk Deger : 3.42659638843557\n",
      "Yeni deger : 3.42659638843557\n",
      "Ilk Deger : 1.4627152025217198\n",
      "Yeni deger : 1.4627152025217198\n",
      "Ilk Deger : -2.81275273412956\n",
      "Yeni deger : -2.81275273412956\n",
      "Ilk Deger : 0.866537751632946\n",
      "Yeni deger : 0.866537751632946\n",
      "Ilk Deger : -5.24427382038509\n",
      "Yeni deger : -5.24427382038509\n",
      "\n",
      "Alt aykırı değeri :  -4.015704540882856\n",
      "Üst aykırı değeri :  9.886945950385106 \n",
      "\n",
      "X11 aykiri deger sayisi :  18 \n",
      "\n",
      "Ilk Deger : 7.071475632798459\n",
      "Yeni deger : 7.071475632798459\n",
      "Ilk Deger : -6.51289966399678\n",
      "Yeni deger : -4.015704540882856\n",
      "Ilk Deger : 7.65079980498752\n",
      "Yeni deger : 7.65079980498752\n",
      "Ilk Deger : 11.150783200729101\n",
      "Yeni deger : 9.886945950385106\n",
      "Ilk Deger : -7.657312340580679\n",
      "Yeni deger : -4.015704540882856\n",
      "Ilk Deger : 12.4840205599929\n",
      "Yeni deger : 9.886945950385106\n",
      "Ilk Deger : -11.7097718857424\n",
      "Yeni deger : -4.015704540882856\n",
      "Ilk Deger : 3.42659638843557\n",
      "Yeni deger : 3.42659638843557\n",
      "Ilk Deger : 1.4627152025217198\n",
      "Yeni deger : 1.4627152025217198\n",
      "Ilk Deger : -2.81275273412956\n",
      "Yeni deger : -2.81275273412956\n",
      "Ilk Deger : 0.866537751632946\n",
      "Yeni deger : 0.866537751632946\n",
      "Ilk Deger : -5.24427382038509\n",
      "Yeni deger : -4.015704540882856\n",
      "\n",
      "Alt aykırı değeri :  -11.56603537232608\n",
      "Üst aykırı değeri :  3.4329684433372805 \n",
      "\n",
      "X12 aykiri deger sayisi :  9 \n",
      "\n",
      "Ilk Deger : 7.071475632798459\n",
      "Yeni deger : 3.4329684433372805\n",
      "Ilk Deger : -6.51289966399678\n",
      "Yeni deger : -6.51289966399678\n",
      "Ilk Deger : 7.65079980498752\n",
      "Yeni deger : 3.4329684433372805\n",
      "Ilk Deger : 11.150783200729101\n",
      "Yeni deger : 3.4329684433372805\n",
      "Ilk Deger : -7.657312340580679\n",
      "Yeni deger : -7.657312340580679\n",
      "Ilk Deger : 12.4840205599929\n",
      "Yeni deger : 3.4329684433372805\n",
      "Ilk Deger : -11.7097718857424\n",
      "Yeni deger : -11.56603537232608\n",
      "Ilk Deger : 3.42659638843557\n",
      "Yeni deger : 3.42659638843557\n",
      "Ilk Deger : 1.4627152025217198\n",
      "Yeni deger : 1.4627152025217198\n",
      "Ilk Deger : -2.81275273412956\n",
      "Yeni deger : -2.81275273412956\n",
      "Ilk Deger : 0.866537751632946\n",
      "Yeni deger : 0.866537751632946\n",
      "Ilk Deger : -5.24427382038509\n",
      "Yeni deger : -5.24427382038509\n"
     ]
    }
   ],
   "source": [
    "for feature in df._get_numeric_data():   \n",
    "    Q1=df[feature].quantile(0.25)\n",
    "    Q3=df[feature].quantile(0.75)   \n",
    "    IQR=(Q3)-(Q1)\n",
    "    alt_sinir = Q1 - 1.5 * IQR  \n",
    "    ust_sinir = Q3 + 1.5 * IQR  \n",
    "    \n",
    "    outliers_vector=df[df[feature].between(alt_sinir, ust_sinir, inclusive=True)][feature]    \n",
    "    print(\"\\nAlt aykırı değeri : \", alt_sinir)\n",
    "    print(\"Üst aykırı değeri : \", ust_sinir, \"\\n\")\n",
    "\n",
    "    print(df[feature].name +\" aykiri deger sayisi : \",df[feature].shape[0] - outliers_vector.shape[0], \"\\n\")\n",
    "\n",
    "    i=0\n",
    "    deger=df.values\n",
    "    for j in range(1,deger.shape[1]):\n",
    "        print(\"Ilk Deger :\" ,deger[i][j])\n",
    "        if (float(deger[i][j]))<(alt_sinir):\n",
    "            deger[i][j]=alt_sinir  \n",
    "        elif (float(deger[i][j]))>(ust_sinir):\n",
    "            deger[i][j]=ust_sinir\n",
    "        print(\"Yeni deger :\" ,deger[i][j])"
   ]
  },
  {
   "cell_type": "markdown",
   "metadata": {},
   "source": [
    "# B.SINIFLAMA\n",
    "Bu bölümde incelenecek olan sınıflandırma yöntemleri şunlardır.<br>\n",
    "1.Linear Discriminant Analysis (LDA)<BR>\n",
    "2.Support Vector Machine (SVM)<br>\n",
    "3.K-Nearest Neighbors (KNN)<br>\n",
    "4.Decision Tree<br>\n",
    "5.Multi-layer Perceptron Classifier (MLP)<br>\n",
    "6.Random Forest Classifier (RFC)"
   ]
  },
  {
   "cell_type": "code",
   "execution_count": 9,
   "metadata": {},
   "outputs": [],
   "source": [
    "from sklearn.model_selection import train_test_split\n",
    "from sklearn.discriminant_analysis import LinearDiscriminantAnalysis\n",
    "from sklearn.naive_bayes import GaussianNB\n",
    "from sklearn.tree import DecisionTreeClassifier\n",
    "import pandas as pd\n",
    "from sklearn.metrics import classification_report\n",
    "from sklearn.metrics import confusion_matrix\n",
    "from sklearn.metrics import accuracy_score\n",
    "from sklearn.neighbors import KNeighborsClassifier\n",
    "from sklearn.svm import SVC\n",
    "from sklearn.neural_network import MLPClassifier\n",
    "from sklearn.ensemble import RandomForestClassifier"
   ]
  },
  {
   "cell_type": "code",
   "execution_count": 10,
   "metadata": {},
   "outputs": [],
   "source": [
    "X = df[['X1', 'X2','X3', 'X4', 'X5', 'X6', 'X7', 'X8','X9', 'X10', 'X11', 'X12']] .values\n",
    "y = df['language'].values"
   ]
  },
  {
   "cell_type": "code",
   "execution_count": 11,
   "metadata": {},
   "outputs": [],
   "source": [
    "X_train, X_test, y_train, y_test = train_test_split(X, y, test_size=0.20, random_state=27)"
   ]
  },
  {
   "cell_type": "code",
   "execution_count": 12,
   "metadata": {},
   "outputs": [
    {
     "name": "stdout",
     "output_type": "stream",
     "text": [
      "[[ 3.70942563 -4.14600254  1.03171946 ... -5.25707029  0.76478587\n",
      "  -7.74992225]\n",
      " [ 2.35654051 -1.83645913  1.54236647 ... -1.46781741  4.23172208\n",
      "  -3.58237412]\n",
      " [ 2.06560324 -2.82550364 -0.84173605 ... -9.26621942  4.25734044\n",
      "  -0.7860789 ]\n",
      " ...\n",
      " [ 0.26592603 -2.62620528  0.60748292 ... -1.30183983  2.05594212\n",
      "  -3.28246787]\n",
      " [ 3.36289961 -5.27976425  7.35745133 ... -4.92981523  3.84920482\n",
      "  -4.38408206]\n",
      " [12.44029597 -4.70540956  3.62772196 ... -9.7365039   3.25266795\n",
      "  -5.96658115]]\n",
      "['UK' 'GE' 'UK' 'ES' 'US' 'ES' 'US' 'US' 'FR' 'IT' 'US' 'GE' 'US' 'US'\n",
      " 'GE' 'FR' 'US' 'US' 'US' 'US' 'FR' 'GE' 'US' 'US' 'US' 'FR' 'US' 'US'\n",
      " 'US' 'US' 'IT' 'UK' 'GE' 'US' 'US' 'FR' 'FR' 'US' 'US' 'US' 'US' 'UK'\n",
      " 'US' 'US' 'US' 'US' 'US' 'GE' 'GE' 'US' 'US' 'US' 'FR' 'US' 'US' 'UK'\n",
      " 'US' 'US' 'US' 'FR' 'US' 'FR' 'US' 'US' 'UK' 'GE' 'US' 'US' 'US' 'US'\n",
      " 'US' 'UK' 'US' 'FR' 'US' 'UK' 'US' 'IT' 'FR' 'IT' 'US' 'UK' 'US' 'US'\n",
      " 'UK' 'UK' 'US' 'UK' 'US' 'US' 'US' 'GE' 'IT' 'US' 'US' 'ES' 'US' 'ES'\n",
      " 'FR' 'UK' 'FR' 'US' 'US' 'US' 'FR' 'FR' 'GE' 'IT' 'US' 'ES' 'IT' 'FR'\n",
      " 'IT' 'US' 'US' 'US' 'US' 'US' 'UK' 'IT' 'US' 'US' 'ES' 'UK' 'GE' 'GE'\n",
      " 'UK' 'FR' 'FR' 'US' 'FR' 'UK' 'US' 'GE' 'US' 'UK' 'US' 'IT' 'US' 'FR'\n",
      " 'US' 'ES' 'FR' 'UK' 'IT' 'US' 'IT' 'FR' 'IT' 'GE' 'US' 'UK' 'US' 'US'\n",
      " 'IT' 'UK' 'US' 'FR' 'US' 'GE' 'ES' 'US' 'IT' 'US' 'US' 'UK' 'US' 'UK'\n",
      " 'US' 'US' 'UK' 'ES' 'GE' 'US' 'UK' 'US' 'UK' 'IT' 'FR' 'US' 'US' 'UK'\n",
      " 'US' 'UK' 'UK' 'IT' 'US' 'UK' 'US' 'GE' 'US' 'US' 'US' 'US' 'US' 'ES'\n",
      " 'IT' 'IT' 'US' 'US' 'US' 'IT' 'US' 'FR' 'US' 'US' 'ES' 'US' 'US' 'US'\n",
      " 'GE' 'IT' 'US' 'US' 'IT' 'UK' 'GE' 'US' 'US' 'US' 'GE' 'US' 'ES' 'US'\n",
      " 'ES' 'GE' 'UK' 'US' 'US' 'UK' 'IT' 'US' 'US' 'FR' 'FR' 'US' 'US' 'IT'\n",
      " 'US' 'US' 'US' 'US' 'US' 'GE' 'ES' 'UK' 'ES' 'US' 'US' 'US' 'US' 'US'\n",
      " 'UK' 'ES' 'UK' 'ES' 'ES' 'US' 'US' 'US' 'FR' 'US' 'ES']\n"
     ]
    }
   ],
   "source": [
    "print(X_train)  \n",
    "print(y_train)"
   ]
  },
  {
   "cell_type": "markdown",
   "metadata": {},
   "source": [
    "## Linear Discriminant Analysis (LDA)"
   ]
  },
  {
   "cell_type": "code",
   "execution_count": 86,
   "metadata": {},
   "outputs": [],
   "source": [
    "LDA_model = LinearDiscriminantAnalysis()\n"
   ]
  },
  {
   "cell_type": "code",
   "execution_count": 87,
   "metadata": {},
   "outputs": [
    {
     "data": {
      "text/plain": [
       "LinearDiscriminantAnalysis(n_components=None, priors=None, shrinkage=None,\n",
       "                           solver='svd', store_covariance=False, tol=0.0001)"
      ]
     },
     "execution_count": 87,
     "metadata": {},
     "output_type": "execute_result"
    }
   ],
   "source": [
    "LDA_model.fit(X_train, y_train)"
   ]
  },
  {
   "cell_type": "code",
   "execution_count": 88,
   "metadata": {},
   "outputs": [],
   "source": [
    "LDA_prediction = LDA_model.predict(X_test)\n"
   ]
  },
  {
   "cell_type": "markdown",
   "metadata": {},
   "source": [
    "### LDA SONUÇLARI"
   ]
  },
  {
   "cell_type": "code",
   "execution_count": 89,
   "metadata": {},
   "outputs": [
    {
     "name": "stdout",
     "output_type": "stream",
     "text": [
      "Accuracy : 0.803030303030303\n",
      "Confusion Matrix :\n",
      " [[ 8  0  0  0  0  0]\n",
      " [ 0  1  1  0  0  1]\n",
      " [ 0  0  7  0  0  2]\n",
      " [ 0  0  0  4  2  0]\n",
      " [ 2  0  0  0  5  0]\n",
      " [ 0  1  0  2  2 28]] \n",
      "\n",
      "Classification Report \n",
      "               precision    recall  f1-score   support\n",
      "\n",
      "          ES       0.80      1.00      0.89         8\n",
      "          FR       0.50      0.33      0.40         3\n",
      "          GE       0.88      0.78      0.82         9\n",
      "          IT       0.67      0.67      0.67         6\n",
      "          UK       0.56      0.71      0.63         7\n",
      "          US       0.90      0.85      0.88        33\n",
      "\n",
      "    accuracy                           0.80        66\n",
      "   macro avg       0.72      0.72      0.71        66\n",
      "weighted avg       0.81      0.80      0.80        66\n",
      "\n"
     ]
    }
   ],
   "source": [
    "accuracy1=accuracy_score(LDA_prediction, y_test)\n",
    "print(\"Accuracy :\", accuracy1)\n",
    "print(\"Confusion Matrix :\\n\", confusion_matrix(LDA_prediction, y_test),\"\\n\")\n",
    "print(\"Classification Report \\n\", classification_report(LDA_prediction, y_test))"
   ]
  },
  {
   "cell_type": "markdown",
   "metadata": {},
   "source": [
    "## Support Vector Machine (SVM_SVC)"
   ]
  },
  {
   "cell_type": "code",
   "execution_count": 90,
   "metadata": {},
   "outputs": [],
   "source": [
    "SVC_model = SVC()\n",
    "# KNN model requires you to specify n_neighbors,\n",
    "# the number of points the classifier will look at to determine what class a new point belongs to\n"
   ]
  },
  {
   "cell_type": "code",
   "execution_count": 91,
   "metadata": {},
   "outputs": [
    {
     "data": {
      "text/plain": [
       "SVC(C=1.0, break_ties=False, cache_size=200, class_weight=None, coef0=0.0,\n",
       "    decision_function_shape='ovr', degree=3, gamma='scale', kernel='rbf',\n",
       "    max_iter=-1, probability=False, random_state=None, shrinking=True,\n",
       "    tol=0.001, verbose=False)"
      ]
     },
     "execution_count": 91,
     "metadata": {},
     "output_type": "execute_result"
    }
   ],
   "source": [
    "SVC_model.fit(X_train, y_train)\n"
   ]
  },
  {
   "cell_type": "code",
   "execution_count": 92,
   "metadata": {},
   "outputs": [],
   "source": [
    "SVC_prediction = SVC_model.predict(X_test)\n"
   ]
  },
  {
   "cell_type": "markdown",
   "metadata": {},
   "source": [
    "### SVC SONUÇLARI"
   ]
  },
  {
   "cell_type": "code",
   "execution_count": 93,
   "metadata": {},
   "outputs": [
    {
     "name": "stdout",
     "output_type": "stream",
     "text": [
      "Accuracy : 0.5909090909090909\n",
      "Confusion Matrix :\n",
      " [[ 1  0  0  0  0  0]\n",
      " [ 0  0  0  0  0  0]\n",
      " [ 0  0  2  0  0  0]\n",
      " [ 0  0  1  2  0  0]\n",
      " [ 0  0  0  0  3  0]\n",
      " [ 9  2  5  4  6 31]] \n",
      "\n",
      "Classification Report \n",
      "               precision    recall  f1-score   support\n",
      "\n",
      "          ES       0.10      1.00      0.18         1\n",
      "          FR       0.00      0.00      0.00         0\n",
      "          GE       0.25      1.00      0.40         2\n",
      "          IT       0.33      0.67      0.44         3\n",
      "          UK       0.33      1.00      0.50         3\n",
      "          US       1.00      0.54      0.70        57\n",
      "\n",
      "    accuracy                           0.59        66\n",
      "   macro avg       0.34      0.70      0.37        66\n",
      "weighted avg       0.90      0.59      0.67        66\n",
      "\n"
     ]
    },
    {
     "name": "stderr",
     "output_type": "stream",
     "text": [
      "C:\\Users\\Neo\\anaconda3\\lib\\site-packages\\sklearn\\metrics\\_classification.py:1272: UndefinedMetricWarning: Recall and F-score are ill-defined and being set to 0.0 in labels with no true samples. Use `zero_division` parameter to control this behavior.\n",
      "  _warn_prf(average, modifier, msg_start, len(result))\n"
     ]
    }
   ],
   "source": [
    "accuracy2=accuracy_score(SVC_prediction, y_test)\n",
    "print(\"Accuracy :\", accuracy2)\n",
    "print(\"Confusion Matrix :\\n\", confusion_matrix(SVC_prediction, y_test),\"\\n\")\n",
    "print(\"Classification Report \\n\", classification_report(SVC_prediction, y_test))"
   ]
  },
  {
   "cell_type": "markdown",
   "metadata": {},
   "source": [
    "## K- Nearest Neighbors (K-NN)"
   ]
  },
  {
   "cell_type": "code",
   "execution_count": 94,
   "metadata": {},
   "outputs": [],
   "source": [
    "KNN_model = KNeighborsClassifier(n_neighbors=5)"
   ]
  },
  {
   "cell_type": "code",
   "execution_count": 95,
   "metadata": {},
   "outputs": [
    {
     "data": {
      "text/plain": [
       "KNeighborsClassifier(algorithm='auto', leaf_size=30, metric='minkowski',\n",
       "                     metric_params=None, n_jobs=None, n_neighbors=5, p=2,\n",
       "                     weights='uniform')"
      ]
     },
     "execution_count": 95,
     "metadata": {},
     "output_type": "execute_result"
    }
   ],
   "source": [
    "KNN_model.fit(X_train, y_train)"
   ]
  },
  {
   "cell_type": "code",
   "execution_count": 96,
   "metadata": {},
   "outputs": [],
   "source": [
    "KNN_prediction = KNN_model.predict(X_test)"
   ]
  },
  {
   "cell_type": "markdown",
   "metadata": {},
   "source": [
    "### KNN SONUÇLARI"
   ]
  },
  {
   "cell_type": "code",
   "execution_count": 97,
   "metadata": {},
   "outputs": [
    {
     "name": "stdout",
     "output_type": "stream",
     "text": [
      "Accuracy : 0.8484848484848485\n",
      "Confusion Matrix :\n",
      " [[10  0  0  0  0  0]\n",
      " [ 0  2  0  0  0  0]\n",
      " [ 0  0  5  1  0  2]\n",
      " [ 0  0  2  4  0  0]\n",
      " [ 0  0  0  0  7  1]\n",
      " [ 0  0  1  1  2 28]] \n",
      "\n",
      "Classification Report \n",
      "               precision    recall  f1-score   support\n",
      "\n",
      "          ES       1.00      1.00      1.00        10\n",
      "          FR       1.00      1.00      1.00         2\n",
      "          GE       0.62      0.62      0.62         8\n",
      "          IT       0.67      0.67      0.67         6\n",
      "          UK       0.78      0.88      0.82         8\n",
      "          US       0.90      0.88      0.89        32\n",
      "\n",
      "    accuracy                           0.85        66\n",
      "   macro avg       0.83      0.84      0.83        66\n",
      "weighted avg       0.85      0.85      0.85        66\n",
      "\n"
     ]
    }
   ],
   "source": [
    "accuracy3=accuracy_score(KNN_prediction, y_test)\n",
    "print(\"Accuracy :\", accuracy3)\n",
    "print(\"Confusion Matrix :\\n\", confusion_matrix(KNN_prediction, y_test),\"\\n\")\n",
    "print(\"Classification Report \\n\", classification_report(KNN_prediction, y_test))"
   ]
  },
  {
   "cell_type": "markdown",
   "metadata": {},
   "source": [
    "## Decision Tree"
   ]
  },
  {
   "cell_type": "code",
   "execution_count": 98,
   "metadata": {},
   "outputs": [],
   "source": [
    "decisiontree_model = DecisionTreeClassifier(random_state=0)"
   ]
  },
  {
   "cell_type": "code",
   "execution_count": 99,
   "metadata": {},
   "outputs": [
    {
     "data": {
      "text/plain": [
       "DecisionTreeClassifier(ccp_alpha=0.0, class_weight=None, criterion='gini',\n",
       "                       max_depth=None, max_features=None, max_leaf_nodes=None,\n",
       "                       min_impurity_decrease=0.0, min_impurity_split=None,\n",
       "                       min_samples_leaf=1, min_samples_split=2,\n",
       "                       min_weight_fraction_leaf=0.0, presort='deprecated',\n",
       "                       random_state=0, splitter='best')"
      ]
     },
     "execution_count": 99,
     "metadata": {},
     "output_type": "execute_result"
    }
   ],
   "source": [
    "decisiontree_model.fit(X_train, y_train)"
   ]
  },
  {
   "cell_type": "code",
   "execution_count": 100,
   "metadata": {},
   "outputs": [],
   "source": [
    "decisiontree_prediction = decisiontree_model.predict(X_test)"
   ]
  },
  {
   "cell_type": "markdown",
   "metadata": {},
   "source": [
    "### DECISION TREE SONUÇLARI"
   ]
  },
  {
   "cell_type": "code",
   "execution_count": 101,
   "metadata": {},
   "outputs": [
    {
     "name": "stdout",
     "output_type": "stream",
     "text": [
      "Accuracy : 0.7727272727272727\n",
      "Confusion Matrix :\n",
      " [[ 9  0  0  0  0  0]\n",
      " [ 0  0  1  0  0  1]\n",
      " [ 0  0  5  0  0  0]\n",
      " [ 0  0  0  4  1  0]\n",
      " [ 0  1  2  1  4  1]\n",
      " [ 1  1  0  1  4 29]] \n",
      "\n",
      "Classification Report \n",
      "               precision    recall  f1-score   support\n",
      "\n",
      "          ES       0.90      1.00      0.95         9\n",
      "          FR       0.00      0.00      0.00         2\n",
      "          GE       0.62      1.00      0.77         5\n",
      "          IT       0.67      0.80      0.73         5\n",
      "          UK       0.44      0.44      0.44         9\n",
      "          US       0.94      0.81      0.87        36\n",
      "\n",
      "    accuracy                           0.77        66\n",
      "   macro avg       0.60      0.67      0.63        66\n",
      "weighted avg       0.79      0.77      0.78        66\n",
      "\n"
     ]
    }
   ],
   "source": [
    "accuracy4=accuracy_score(decisiontree_prediction, y_test)\n",
    "print(\"Accuracy :\", accuracy4)\n",
    "print(\"Confusion Matrix :\\n\", confusion_matrix(decisiontree_prediction, y_test),\"\\n\")\n",
    "print(\"Classification Report \\n\", classification_report(decisiontree_prediction, y_test))"
   ]
  },
  {
   "cell_type": "markdown",
   "metadata": {},
   "source": [
    "## MLP Classifier"
   ]
  },
  {
   "cell_type": "code",
   "execution_count": 102,
   "metadata": {},
   "outputs": [],
   "source": [
    "MLPC_model = MLPClassifier(alpha=1, max_iter=1000)"
   ]
  },
  {
   "cell_type": "code",
   "execution_count": 103,
   "metadata": {},
   "outputs": [
    {
     "data": {
      "text/plain": [
       "MLPClassifier(activation='relu', alpha=1, batch_size='auto', beta_1=0.9,\n",
       "              beta_2=0.999, early_stopping=False, epsilon=1e-08,\n",
       "              hidden_layer_sizes=(100,), learning_rate='constant',\n",
       "              learning_rate_init=0.001, max_fun=15000, max_iter=1000,\n",
       "              momentum=0.9, n_iter_no_change=10, nesterovs_momentum=True,\n",
       "              power_t=0.5, random_state=None, shuffle=True, solver='adam',\n",
       "              tol=0.0001, validation_fraction=0.1, verbose=False,\n",
       "              warm_start=False)"
      ]
     },
     "execution_count": 103,
     "metadata": {},
     "output_type": "execute_result"
    }
   ],
   "source": [
    "MLPC_model.fit(X_train, y_train)"
   ]
  },
  {
   "cell_type": "code",
   "execution_count": 104,
   "metadata": {},
   "outputs": [],
   "source": [
    "MLPC_prediction = MLPC_model.predict(X_test)"
   ]
  },
  {
   "cell_type": "markdown",
   "metadata": {},
   "source": [
    "### MLP SONUÇLARI"
   ]
  },
  {
   "cell_type": "code",
   "execution_count": 105,
   "metadata": {},
   "outputs": [
    {
     "name": "stdout",
     "output_type": "stream",
     "text": [
      "Accuracy : 0.8636363636363636\n",
      "Confusion Matrix :\n",
      " [[ 9  0  0  0  0  0]\n",
      " [ 0  1  0  0  0  0]\n",
      " [ 0  0  6  0  0  1]\n",
      " [ 0  0  0  4  1  0]\n",
      " [ 1  0  0  0  7  0]\n",
      " [ 0  1  2  2  1 30]] \n",
      "\n",
      "Classification Report \n",
      "               precision    recall  f1-score   support\n",
      "\n",
      "          ES       0.90      1.00      0.95         9\n",
      "          FR       0.50      1.00      0.67         1\n",
      "          GE       0.75      0.86      0.80         7\n",
      "          IT       0.67      0.80      0.73         5\n",
      "          UK       0.78      0.88      0.82         8\n",
      "          US       0.97      0.83      0.90        36\n",
      "\n",
      "    accuracy                           0.86        66\n",
      "   macro avg       0.76      0.89      0.81        66\n",
      "weighted avg       0.88      0.86      0.87        66\n",
      "\n"
     ]
    }
   ],
   "source": [
    "accuracy5=accuracy_score(MLPC_prediction, y_test)\n",
    "print(\"Accuracy :\", accuracy5)\n",
    "print(\"Confusion Matrix :\\n\", confusion_matrix(MLPC_prediction, y_test),\"\\n\")\n",
    "print(\"Classification Report \\n\", classification_report(MLPC_prediction, y_test))"
   ]
  },
  {
   "cell_type": "markdown",
   "metadata": {},
   "source": [
    "## Random Forest Classifier (RFC)"
   ]
  },
  {
   "cell_type": "code",
   "execution_count": 106,
   "metadata": {},
   "outputs": [],
   "source": [
    "RFC_model = RandomForestClassifier(n_estimators=100)"
   ]
  },
  {
   "cell_type": "code",
   "execution_count": 107,
   "metadata": {},
   "outputs": [
    {
     "data": {
      "text/plain": [
       "RandomForestClassifier(bootstrap=True, ccp_alpha=0.0, class_weight=None,\n",
       "                       criterion='gini', max_depth=None, max_features='auto',\n",
       "                       max_leaf_nodes=None, max_samples=None,\n",
       "                       min_impurity_decrease=0.0, min_impurity_split=None,\n",
       "                       min_samples_leaf=1, min_samples_split=2,\n",
       "                       min_weight_fraction_leaf=0.0, n_estimators=100,\n",
       "                       n_jobs=None, oob_score=False, random_state=None,\n",
       "                       verbose=0, warm_start=False)"
      ]
     },
     "execution_count": 107,
     "metadata": {},
     "output_type": "execute_result"
    }
   ],
   "source": [
    "RFC_model.fit(X_train, y_train)"
   ]
  },
  {
   "cell_type": "code",
   "execution_count": 108,
   "metadata": {},
   "outputs": [],
   "source": [
    "RFC_prediction = RFC_model.predict(X_test)"
   ]
  },
  {
   "cell_type": "markdown",
   "metadata": {},
   "source": [
    "### RFC SONUÇLARI"
   ]
  },
  {
   "cell_type": "code",
   "execution_count": 109,
   "metadata": {},
   "outputs": [
    {
     "name": "stdout",
     "output_type": "stream",
     "text": [
      "Accuracy : 0.7424242424242424\n",
      "Confusion Matrix :\n",
      " [[ 6  0  0  0  0  0]\n",
      " [ 0  0  0  0  0  0]\n",
      " [ 0  0  5  0  0  0]\n",
      " [ 0  0  0  3  0  0]\n",
      " [ 0  0  0  0  5  1]\n",
      " [ 4  2  3  3  4 30]] \n",
      "\n",
      "Classification Report \n",
      "               precision    recall  f1-score   support\n",
      "\n",
      "          ES       0.60      1.00      0.75         6\n",
      "          FR       0.00      0.00      0.00         0\n",
      "          GE       0.62      1.00      0.77         5\n",
      "          IT       0.50      1.00      0.67         3\n",
      "          UK       0.56      0.83      0.67         6\n",
      "          US       0.97      0.65      0.78        46\n",
      "\n",
      "    accuracy                           0.74        66\n",
      "   macro avg       0.54      0.75      0.61        66\n",
      "weighted avg       0.85      0.74      0.76        66\n",
      "\n"
     ]
    },
    {
     "name": "stderr",
     "output_type": "stream",
     "text": [
      "C:\\Users\\Neo\\anaconda3\\lib\\site-packages\\sklearn\\metrics\\_classification.py:1272: UndefinedMetricWarning: Recall and F-score are ill-defined and being set to 0.0 in labels with no true samples. Use `zero_division` parameter to control this behavior.\n",
      "  _warn_prf(average, modifier, msg_start, len(result))\n"
     ]
    }
   ],
   "source": [
    "accuracy6=accuracy_score(RFC_prediction, y_test)\n",
    "print(\"Accuracy :\", accuracy6)\n",
    "print(\"Confusion Matrix :\\n\", confusion_matrix(RFC_prediction, y_test),\"\\n\")\n",
    "print(\"Classification Report \\n\", classification_report(RFC_prediction, y_test))"
   ]
  },
  {
   "cell_type": "markdown",
   "metadata": {},
   "source": [
    "## B. SINIFLAMA\n",
    "\n",
    "## GENEL SONUÇLAR\n",
    "Sınıflandırma uygulanmış olan 5 modelin sonuçları aşağıdaki gibidir.<br>\n",
    "1.Linear Discriminant Analysis (LDA) : ***0.80***<BR>\n",
    "2.Support Vector Machine (SVM) : ***0.59***<br>\n",
    "3.K-Nearest Neighbors (KNN) : ***0.85***<br>\n",
    "4.Decision Tree : ***0.77***<br>\n",
    "5.Multi-layer Perceptron Classifier (MLP) : ***0.86***<br>\n",
    "6.Random Forest Classifier (RFC) :  ***0.74***<br><br>\n",
    "    \n",
    "Yukarıda ki algoritmaların karşılaştırma sonucunda, en başarılı sonucu % 86 ile ***MLP Classifier algoritması*** vermiştir."
   ]
  },
  {
   "cell_type": "code",
   "execution_count": 111,
   "metadata": {},
   "outputs": [
    {
     "data": {
      "image/png": "[encoded data removed]",
      "text/plain": [
       "<Figure size 432x288 with 1 Axes>"
      ]
     },
     "metadata": {
      "needs_background": "light"
     },
     "output_type": "display_data"
    }
   ],
   "source": [
    "fig = plt.figure()\n",
    "ax = fig.add_axes([0,0,1,1])\n",
    "ax.bar(['LDA', 'SVM', 'KNN', 'Decision Tree', 'MLP', 'RFC'],[accuracy1, accuracy2, accuracy3, accuracy4, accuracy5, accuracy6])\n",
    "plt.show()"
   ]
  },
  {
   "cell_type": "markdown",
   "metadata": {},
   "source": [
    "## C. KÜMELEME"
   ]
  },
  {
   "cell_type": "markdown",
   "metadata": {},
   "source": [
    "## K-Mean Clustering\n",
    "\n",
    "Kümeleme yöntemlerinden K-Means modeli seçilerek 6 farklı dil için kümeleme işlemi gerçekleştirilmiştir."
   ]
  },
  {
   "cell_type": "code",
   "execution_count": 99,
   "metadata": {},
   "outputs": [
    {
     "data": {
      "image/png": "[encoded data removed]",
      "text/plain": [
       "<Figure size 432x288 with 1 Axes>"
      ]
     },
     "metadata": {
      "needs_background": "light"
     },
     "output_type": "display_data"
    }
   ],
   "source": [
    "from sklearn.datasets.samples_generator import make_blobs\n",
    "from sklearn.cluster import KMeans\n",
    "plt.scatter(X[:, 0], X[:, 1], s=50);"
   ]
  },
  {
   "cell_type": "code",
   "execution_count": 97,
   "metadata": {},
   "outputs": [],
   "source": [
    "kmeans = KMeans(n_clusters=6)\n",
    "kmeans.fit(X)\n",
    "y_kmeans = kmeans.predict(X)"
   ]
  },
  {
   "cell_type": "code",
   "execution_count": 98,
   "metadata": {},
   "outputs": [
    {
     "data": {
      "text/plain": [
       "<matplotlib.collections.PathCollection at 0x29aa6f71708>"
      ]
     },
     "execution_count": 98,
     "metadata": {},
     "output_type": "execute_result"
    },
    {
     "data": {
      "image/png": "[encoded data removed]",
      "text/plain": [
       "<Figure size 432x288 with 1 Axes>"
      ]
     },
     "metadata": {
      "needs_background": "light"
     },
     "output_type": "display_data"
    }
   ],
   "source": [
    "plt.scatter(X[:, 0], X[:, 1], c=y_kmeans, s=50, cmap='viridis')\n",
    "\n",
    "centers = kmeans.cluster_centers_\n",
    "plt.scatter(kmeans.cluster_centers_[:, 0], kmeans.cluster_centers_[:, 1], s=300, c='orange', label = 'Centroids')"
   ]
  }
 ],
 "metadata": {
  "kernelspec": {
   "display_name": "Python 3",
   "language": "python",
   "name": "python3"
  },
  "language_info": {
   "codemirror_mode": {
    "name": "ipython",
    "version": 3
   },
   "file_extension": ".py",
   "mimetype": "text/x-python",
   "name": "python",
   "nbconvert_exporter": "python",
   "pygments_lexer": "ipython3",
   "version": "3.7.6"
  }
 },
 "nbformat": 4,
 "nbformat_minor": 4
}
